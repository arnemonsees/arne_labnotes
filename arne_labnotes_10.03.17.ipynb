{
 "cells": [
  {
   "cell_type": "markdown",
   "metadata": {},
   "source": [
    "Do not know exactly what to put in here yet!\n",
    "\n",
    "What I did this week:\n",
    "* Worked on code for pupil tracking (see pupil_triangulation folder at bitbucket) since I am having a deadline on next Thursday in this reagard. Could use a lot of knowledge I gained from working on the multi-camera calibration code. The idea is to track pupils in several images with two cameras. Thereby, we fit the pupil radius (pupil_radius), the distance from the pupil to the eyeball (rotation_radius), the rotation- and translation vector of the pupilwith regard to the reference camera (r1, t1). Code seems to work so far. Nevertheless, next week David and I starting to work on real data and I guess I have to add futher stuff.\n",
    "\n",
    "What I want to do next:\n",
    "* Get the template for the labnotes.\n",
    "* Do more work on the pupil tracking since I am pessimistic that I will be done with all of this next week (depends on what else Jason expects me to do though).\n",
    "* Work on the code for the muli-camera calibration in parallel. Want to put everything into a nice and general shape so that it is ready to be implemented into our GUI (put plotting functions into own file, make all the hardcoded stuff variable so that it is suited for an arbitrary data set, etc.)."
   ]
  },
  {
   "cell_type": "code",
   "execution_count": null,
   "metadata": {
    "collapsed": true
   },
   "outputs": [],
   "source": []
  }
 ],
 "metadata": {
  "kernelspec": {
   "display_name": "Python [default]",
   "language": "python",
   "name": "python3"
  },
  "language_info": {
   "codemirror_mode": {
    "name": "ipython",
    "version": 3
   },
   "file_extension": ".py",
   "mimetype": "text/x-python",
   "name": "python",
   "nbconvert_exporter": "python",
   "pygments_lexer": "ipython3",
   "version": "3.5.2"
  }
 },
 "nbformat": 4,
 "nbformat_minor": 2
}
