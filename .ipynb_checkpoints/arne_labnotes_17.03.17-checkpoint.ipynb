{
 "cells": [
  {
   "cell_type": "markdown",
   "metadata": {},
   "source": [
    "Do not know exactly what to put in here yet!\n",
    "\n",
    "What I did this week:\n",
    "* Continued working on the code for pupil triangulation. Implemented a nested nealder mead search algorithm. Can revover the unknwon parameters in simulations now. Started to work on real data. Have to think about how to initialize...\n",
    "\n",
    "Since I did not manage to get other work d\n",
    "\n",
    "What I want to do next:\n",
    "* Get the template for the labnotes.\n",
    "* Do more work on the pupil tracking. Hopefully, I will get done with most of it next week.\n",
    "* Work on the code for the muli-camera calibration in parallel. Want to put everything into a nice and general shape so that it is ready to be implemented into our GUI (put plotting functions into own file, make all the hardcoded stuff variable so that it is suited for an arbitrary data set, etc.)."
   ]
  },
  {
   "cell_type": "code",
   "execution_count": null,
   "metadata": {
    "collapsed": true
   },
   "outputs": [],
   "source": []
  }
 ],
 "metadata": {
  "kernelspec": {
   "display_name": "Python [default]",
   "language": "python",
   "name": "python3"
  },
  "language_info": {
   "codemirror_mode": {
    "name": "ipython",
    "version": 3
   },
   "file_extension": ".py",
   "mimetype": "text/x-python",
   "name": "python",
   "nbconvert_exporter": "python",
   "pygments_lexer": "ipython3",
   "version": "3.5.2"
  }
 },
 "nbformat": 4,
 "nbformat_minor": 2
}
